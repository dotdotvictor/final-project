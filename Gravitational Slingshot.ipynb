{
 "cells": [
  {
   "cell_type": "markdown",
   "metadata": {},
   "source": [
    "# Final Project for Phys360\n",
    "\n",
    "### Author: Victor Singharaj"
   ]
  },
  {
   "cell_type": "markdown",
   "metadata": {},
   "source": [
    "## Modeling Sun and Planet\n",
    "\n",
    "Formulas for computation:\n",
    "\n",
    "$M_e, M_s$ are constants, where are the masses for the Earth and the Sun respectively. \n",
    "\n",
    "We can create a gravitational slingshot with the following equations listed below.\n",
    "\n",
    "Creating a solar system may require the use of vPython to create a 3D model and representation of the solar system if we wanted to extend outside of just two celestial bodies. \n",
    "\n",
    "$$ \\vec{F} = -G \\frac{M_sm_e}{|\\vec{r}|^2} \\hat{r}$$\n",
    "\n",
    "We also know for circular motion, $\\vec{F} = \\frac{M_ev^2}{r} $\n",
    "\n",
    "Setting them equal to each other, we can cancel out $ M_e $ and multiply by $r^2$ on both sides.\n",
    "\n",
    "This should give us the equations:\n",
    "\n",
    "$$ GM_s = v^2r $$ \n",
    "\n",
    "Applying Kepler's Third Law, we are able to get $GM_s = v^2r = 4\\pi^2 \\frac{AU^3}{yr^2}$.\n",
    "\n",
    "Applying the Euler-Cromer Method, we can update the velocity in the x-y plane, along with the positions of the planet. \n",
    "\n",
    "$$v_{x,i+1} = v_{x,i} - \\frac{4\\pi^2x_i}{r^3_i}\\Delta t$$\n",
    "\n",
    "$$x_{i+1} = x_i + v_{x,i+1}\\Delta t$$\n",
    "\n",
    "$$v_{y,i+1} = v_{y,i} - \\frac{4\\pi^2y_i}{r^3_i}\\Delta t$$\n",
    "\n",
    "$$y_{i+1} = y_i + v_{y,i+1}\\Delta t$$\n",
    " \n",
    "We can also solve for our radius r as it is a dynamic variable with the equation\n",
    "\n",
    "$$ r = \\sqrt{(x_{plan} - x_{sat})^2 + (y_{plan} - y_{sat})^2 }$$\n",
    "\n"
   ]
  },
  {
   "cell_type": "markdown",
   "metadata": {},
   "source": [
    "# References\n",
    "\n",
    "[Article](https://science.nasa.gov/learn/basics-of-space-flight/primer/) by NASA about Gravitational Slingshots\n",
    "[Gravity Assist Project](https://pages.vassar.edu/magnes/2016/12/11/gravity-assist/) on a similar project\n",
    "\n",
    "[Youtube](https://www.youtube.com/watch?v=6bHwWFOz4Ww) video on creating a planetary system.\n",
    "\n",
    "[Article](https://thepythoncodingbook.com/2021/09/29/simulating-orbiting-planets-in-a-solar-system-using-python-orbiting-planets-series-1/) about creating a solar system in Python."
   ]
  },
  {
   "cell_type": "markdown",
   "metadata": {},
   "source": []
  }
 ],
 "metadata": {
  "kernelspec": {
   "display_name": "Python 3",
   "language": "python",
   "name": "python3"
  },
  "language_info": {
   "codemirror_mode": {
    "name": "ipython",
    "version": 3
   },
   "file_extension": ".py",
   "mimetype": "text/x-python",
   "name": "python",
   "nbconvert_exporter": "python",
   "pygments_lexer": "ipython3",
   "version": "3.12.1"
  }
 },
 "nbformat": 4,
 "nbformat_minor": 2
}
